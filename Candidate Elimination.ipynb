{
 "cells": [
  {
   "cell_type": "code",
   "execution_count": 73,
   "id": "f61afb4d",
   "metadata": {},
   "outputs": [],
   "source": [
    "import numpy as np\n",
    "import pandas as pd"
   ]
  },
  {
   "cell_type": "code",
   "execution_count": 74,
   "id": "07265b2e",
   "metadata": {},
   "outputs": [],
   "source": [
    "data=pd.read_csv(\"Book1.csv\")"
   ]
  },
  {
   "cell_type": "code",
   "execution_count": 75,
   "id": "03b57fe0",
   "metadata": {},
   "outputs": [
    {
     "data": {
      "text/plain": [
       "array([['sunny', 'warm', 'normal', 'strong', 'warm', 'same', 'yes'],\n",
       "       ['sunny', 'warm', 'high', 'strong', 'warm', 'same', 'yes'],\n",
       "       ['rainy', 'cold', 'high', 'strong', 'warm', 'change', 'no'],\n",
       "       ['sunny', 'warm', 'high', 'strong', 'cool', 'change', 'yes']],\n",
       "      dtype=object)"
      ]
     },
     "execution_count": 75,
     "metadata": {},
     "output_type": "execute_result"
    }
   ],
   "source": [
    "a=np.array(data)\n",
    "a"
   ]
  },
  {
   "cell_type": "code",
   "execution_count": 99,
   "id": "ae1433b4",
   "metadata": {},
   "outputs": [
    {
     "name": "stdout",
     "output_type": "stream",
     "text": [
      "s 0: ['pi', 'pi', 'pi', 'pi', 'pi', 'pi']\n",
      "g 0: ['?', '?', '?', '?', '?', '?']\n",
      "s 1 : ['sunny', 'warm', 'normal', 'strong', 'warm', 'same']\n",
      "g 1 : ['?', '?', '?', '?', '?', '?']\n",
      "s 2 : ['sunny', 'warm', '?', 'strong', 'warm', 'same']\n",
      "g 2 : ['?', '?', '?', '?', '?', '?']\n",
      "s 3 : ['sunny', 'warm', '?', 'strong', 'warm', 'same']\n",
      "g 3 : [['sunny', '?', '?', '?', '?', '?'], ['?', 'warm', '?', '?', '?', '?'], ['?', '?', '?', '?', '?', 'same']]\n",
      "s 4 : ['sunny', 'warm', '?', 'strong', '?', '?']\n",
      "g 4 : [['sunny', '?', '?', '?', '?', '?'], ['?', 'warm', '?', '?', '?', '?']]\n"
     ]
    }
   ],
   "source": [
    "g=[]\n",
    "s=[]\n",
    "gf=[]\n",
    "y=n=0\n",
    "for i in range(len(data.columns)-1):\n",
    "    s.append('pi')\n",
    "    g.append('?')\n",
    "print(\"s 0:\",s)\n",
    "print(\"g 0:\",g)\n",
    "for i in range(len(a)):\n",
    "    if(a[i][-1]=='yes'):\n",
    "        y=y+1\n",
    "        for j in range(len(a[0])-1):\n",
    "            if(y==1):\n",
    "                s[j]=a[i][j]\n",
    "            else:\n",
    "                if(s[j]!=a[i][j]):\n",
    "                    s[j]=\"?\"\n",
    "        if(n!=0):\n",
    "            g=gf.copy()\n",
    "            for x in g:\n",
    "                for y in x:\n",
    "                    if(y!=\"?\"):\n",
    "                        if y not in a[i]:\n",
    "                            g.remove(x)\n",
    "        print(\"s\",i+1,\":\",s)\n",
    "        print(\"g\",i+1,\":\",g)\n",
    "    else:\n",
    "        n=n+1\n",
    "        for j in range(len(a[0])-1):\n",
    "            if(s[j]!=a[i][j] and s[j]!='?'):\n",
    "                l=g.copy()\n",
    "                l[j]=s[j]\n",
    "                gf.append(l)\n",
    "        print(\"s\",i+1,\":\",s)\n",
    "        print(\"g\",i+1,\":\",gf)"
   ]
  },
  {
   "cell_type": "code",
   "execution_count": null,
   "id": "574739d1",
   "metadata": {},
   "outputs": [],
   "source": []
  }
 ],
 "metadata": {
  "kernelspec": {
   "display_name": "Python 3 (ipykernel)",
   "language": "python",
   "name": "python3"
  },
  "language_info": {
   "codemirror_mode": {
    "name": "ipython",
    "version": 3
   },
   "file_extension": ".py",
   "mimetype": "text/x-python",
   "name": "python",
   "nbconvert_exporter": "python",
   "pygments_lexer": "ipython3",
   "version": "3.9.7"
  }
 },
 "nbformat": 4,
 "nbformat_minor": 5
}
