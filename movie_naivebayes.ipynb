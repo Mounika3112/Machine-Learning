{
 "cells": [
  {
   "cell_type": "code",
   "execution_count": 196,
   "id": "53127eac",
   "metadata": {},
   "outputs": [],
   "source": [
    "import numpy as np\n",
    "import pandas as pd"
   ]
  },
  {
   "cell_type": "code",
   "execution_count": 197,
   "id": "3caecc29",
   "metadata": {},
   "outputs": [],
   "source": [
    "df=pd.read_csv(\"movie.csv\")"
   ]
  },
  {
   "cell_type": "code",
   "execution_count": 198,
   "id": "f0751fab",
   "metadata": {},
   "outputs": [
    {
     "data": {
      "text/html": [
       "<div>\n",
       "<style scoped>\n",
       "    .dataframe tbody tr th:only-of-type {\n",
       "        vertical-align: middle;\n",
       "    }\n",
       "\n",
       "    .dataframe tbody tr th {\n",
       "        vertical-align: top;\n",
       "    }\n",
       "\n",
       "    .dataframe thead th {\n",
       "        text-align: right;\n",
       "    }\n",
       "</style>\n",
       "<table border=\"1\" class=\"dataframe\">\n",
       "  <thead>\n",
       "    <tr style=\"text-align: right;\">\n",
       "      <th></th>\n",
       "      <th>Examples</th>\n",
       "      <th>Text</th>\n",
       "      <th>Class</th>\n",
       "    </tr>\n",
       "  </thead>\n",
       "  <tbody>\n",
       "    <tr>\n",
       "      <th>0</th>\n",
       "      <td>1</td>\n",
       "      <td>i loved the movie</td>\n",
       "      <td>+</td>\n",
       "    </tr>\n",
       "    <tr>\n",
       "      <th>1</th>\n",
       "      <td>2</td>\n",
       "      <td>i hated the movie</td>\n",
       "      <td>-</td>\n",
       "    </tr>\n",
       "    <tr>\n",
       "      <th>2</th>\n",
       "      <td>3</td>\n",
       "      <td>a great movie. good movie</td>\n",
       "      <td>+</td>\n",
       "    </tr>\n",
       "    <tr>\n",
       "      <th>3</th>\n",
       "      <td>4</td>\n",
       "      <td>poor acting</td>\n",
       "      <td>-</td>\n",
       "    </tr>\n",
       "    <tr>\n",
       "      <th>4</th>\n",
       "      <td>5</td>\n",
       "      <td>great acting. good movie</td>\n",
       "      <td>+</td>\n",
       "    </tr>\n",
       "  </tbody>\n",
       "</table>\n",
       "</div>"
      ],
      "text/plain": [
       "   Examples                       Text Class\n",
       "0         1          i loved the movie     +\n",
       "1         2          i hated the movie     -\n",
       "2         3  a great movie. good movie     +\n",
       "3         4                poor acting     -\n",
       "4         5   great acting. good movie     +"
      ]
     },
     "execution_count": 198,
     "metadata": {},
     "output_type": "execute_result"
    }
   ],
   "source": [
    "df['Text']=df['Text'].apply(str.lower)\n",
    "df\n",
    "#df.columns"
   ]
  },
  {
   "cell_type": "code",
   "execution_count": 199,
   "id": "7fbf79b6",
   "metadata": {},
   "outputs": [],
   "source": [
    "vocabulary=[]\n",
    "pos_Class=[]\n",
    "neg_Class=[]\n",
    "punc=['.',',','?']\n",
    "#for i in range(len(df)):\n",
    "def Class_Vocab(i,s):\n",
    "    l=df['Text'][i].split()\n",
    "    for j in range(len(l)):\n",
    "        for x in l[j]:\n",
    "            if x in punc:\n",
    "                l[j]=l[j].replace(x,\"\")\n",
    "    if(s=='+'):\n",
    "        pos_Class.extend(l)\n",
    "    else:\n",
    "        neg_Class.extend(l)"
   ]
  },
  {
   "cell_type": "code",
   "execution_count": 200,
   "id": "aa751a0d",
   "metadata": {},
   "outputs": [
    {
     "name": "stdout",
     "output_type": "stream",
     "text": [
      "['hated', 'loved', 'great', 'movie', 'poor', 'good', 'i', 'a', 'the', 'acting']\n",
      "['i', 'loved', 'the', 'movie', 'a', 'great', 'movie', 'good', 'movie', 'great', 'acting', 'good', 'movie']\n",
      "['i', 'hated', 'the', 'movie', 'poor', 'acting']\n"
     ]
    }
   ],
   "source": [
    "total_negClass=0\n",
    "total_posClass=0\n",
    "for i in range(len(df)):\n",
    "    if(df['Class'][i]=='+'):\n",
    "        total_posClass+=1\n",
    "        Class_Vocab(i,'+')\n",
    "    else:\n",
    "        total_negClass+=1\n",
    "        Class_Vocab(i,'-')\n",
    "vocabulary.extend(pos_Class)\n",
    "vocabulary.extend(neg_Class)\n",
    "vocabulary=list(set(vocabulary))\n",
    "print(vocabulary)\n",
    "print(pos_Class)\n",
    "print(neg_Class)"
   ]
  },
  {
   "cell_type": "code",
   "execution_count": 201,
   "id": "902823f5",
   "metadata": {},
   "outputs": [],
   "source": [
    "def Calculation(l,Class):\n",
    "    value=1\n",
    "    if(Class=='+'):\n",
    "        value=value*(total_posClass/len(df))\n",
    "        for x in l:\n",
    "            p=(pos_Class.count(x)+1)/(len(pos_Class)+len(vocabulary))\n",
    "            value=value*p\n",
    "    else:\n",
    "        value=value*(total_negClass/len(df))\n",
    "        for x in l:\n",
    "            p=(neg_Class.count(x)+1)/(len(neg_Class)+len(vocabulary))\n",
    "            value=value*p\n",
    "    return value"
   ]
  },
  {
   "cell_type": "code",
   "execution_count": 202,
   "id": "903c6f10",
   "metadata": {},
   "outputs": [
    {
     "name": "stdout",
     "output_type": "stream",
     "text": [
      "Enter the Test Data: I loved the movie\n",
      "POSITIVE CLASS\n"
     ]
    }
   ],
   "source": [
    "testing=[x for x in input(\"Enter the Test Data: \").split()]\n",
    "pos_prob=Calculation(testing,'+')\n",
    "neg_prob=Calculation(testing,'-')\n",
    "if(pos_prob<neg_prob):\n",
    "    print(\"NEGATIVE CLASS\")\n",
    "else:\n",
    "    print(\"POSITIVE CLASS\")"
   ]
  },
  {
   "cell_type": "code",
   "execution_count": null,
   "id": "a899f7b6",
   "metadata": {},
   "outputs": [],
   "source": []
  }
 ],
 "metadata": {
  "kernelspec": {
   "display_name": "Python 3 (ipykernel)",
   "language": "python",
   "name": "python3"
  },
  "language_info": {
   "codemirror_mode": {
    "name": "ipython",
    "version": 3
   },
   "file_extension": ".py",
   "mimetype": "text/x-python",
   "name": "python",
   "nbconvert_exporter": "python",
   "pygments_lexer": "ipython3",
   "version": "3.9.7"
  }
 },
 "nbformat": 4,
 "nbformat_minor": 5
}
